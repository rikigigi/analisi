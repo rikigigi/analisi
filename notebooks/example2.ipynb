{
 "cells": [
  {
   "cell_type": "code",
   "execution_count": null,
   "metadata": {},
   "outputs": [],
   "source": [
    "%load_ext autoreload\n",
    "%autoreload 2\n",
    "from pyanalisi import *\n"
   ]
  },
  {
   "cell_type": "markdown",
   "metadata": {},
   "source": [
    "# Load the binary trajectory in one shot\n",
    "\n",
    "can be done better if less RAM usage is needed"
   ]
  },
  {
   "cell_type": "code",
   "execution_count": null,
   "metadata": {},
   "outputs": [],
   "source": [
    "phase_IV=read_lammps_bin('./dump2.8fs.bin',wrap=False)"
   ]
  },
  {
   "cell_type": "code",
   "execution_count": null,
   "metadata": {},
   "outputs": [],
   "source": [
    "phase_IV.get_array('positions').shape"
   ]
  },
  {
   "cell_type": "code",
   "execution_count": null,
   "metadata": {},
   "outputs": [],
   "source": [
    "plt.plot(phase_IV.get_array('positions')[:,phase_IV.t.get_lammps_type()==1,0][:,:10])"
   ]
  },
  {
   "cell_type": "code",
   "execution_count": null,
   "metadata": {},
   "outputs": [],
   "source": [
    "pl=show_traj(phase_IV,wrap=False)"
   ]
  },
  {
   "cell_type": "code",
   "execution_count": null,
   "metadata": {
    "scrolled": false
   },
   "outputs": [],
   "source": [
    "res=multiinspect([phase_IV], plot=True, prefix='phase_IV_nose_',\n",
    "                 inspect_kw={\n",
    "                     'nthreads':12,\n",
    "                     'do_sh':False,\n",
    "                     'plot_st_kw': {\n",
    "                         'transpose':True,\n",
    "                         'xmax':.40,\n",
    "                         'ymax':.70,\n",
    "                         'single':(1,1),\n",
    "                         'plt_points':[(0.15818,0.491385,0.05,{'alpha':0.5,'fill':True,'ls':':','color':'blue'}),#fcc\n",
    "                                      (0.084052,0.421813,0.05,{'alpha':0.5,'fill':True,'ls':':','color':'green'})#hcp\n",
    "                                    ]\n",
    "                     },\n",
    "                     'compute_steinhardt_kw':{'skip':40},\n",
    "                     \n",
    "                 })"
   ]
  },
  {
   "cell_type": "code",
   "execution_count": null,
   "metadata": {},
   "outputs": [],
   "source": [
    "%matplotlib notebook"
   ]
  },
  {
   "cell_type": "code",
   "execution_count": null,
   "metadata": {
    "scrolled": false
   },
   "outputs": [],
   "source": [
    "steinhardt_movie(phase_IV,skip=20,n_segments=150,\n",
    "                 plt_steinhardt_kw={\n",
    "                         'transpose':True,\n",
    "                         'xmax':.40,\n",
    "                         'ymax':.70,\n",
    "                         'single':(1,1)},\n",
    "                 compute_steinhardt_kw={'nthreads':12},\n",
    "                 neigh=[(55,3.5**2,0.0),(65,3.5**2,0.0)]\n",
    "                )"
   ]
  }
 ],
 "metadata": {
  "kernelspec": {
   "display_name": "Python 3",
   "language": "python",
   "name": "python3"
  },
  "language_info": {
   "codemirror_mode": {
    "name": "ipython",
    "version": 3
   },
   "file_extension": ".py",
   "mimetype": "text/x-python",
   "name": "python",
   "nbconvert_exporter": "python",
   "pygments_lexer": "ipython3",
   "version": "3.7.3"
  }
 },
 "nbformat": 4,
 "nbformat_minor": 4
}
